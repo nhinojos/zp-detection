{
 "cells": [
  {
   "cell_type": "markdown",
   "metadata": {},
   "source": [
    "## Procedure\n",
    "Only collsion data with two oppositely-charged electrons is extracted for analysis."
   ]
  },
  {
   "cell_type": "code",
   "execution_count": 18,
   "metadata": {},
   "outputs": [
    {
     "ename": "SyntaxError",
     "evalue": "invalid syntax (3392071155.py, line 30)",
     "output_type": "error",
     "traceback": [
      "\u001b[1;36m  Input \u001b[1;32mIn [18]\u001b[1;36m\u001b[0m\n\u001b[1;33m    if (line[index_end]=='1' and charge_val=1) or (line[index_end]=='-' and charge_val=-1):\u001b[0m\n\u001b[1;37m                                           ^\u001b[0m\n\u001b[1;31mSyntaxError\u001b[0m\u001b[1;31m:\u001b[0m invalid syntax\n"
     ]
    }
   ],
   "source": [
    "# Initial variables.\n",
    "b175=open(\"ee_mll175_electrons.txt\",\"r\")\n",
    "investigate_collision=0\n",
    "charge_val=None\n",
    "\n",
    "# Iterates through each line in the data file. \n",
    "for line in b175:\n",
    "    # Only considers cases where there are two electrons.\n",
    "    if \"NumElectrons: 2\" in line:\n",
    "        print(\"\")\n",
    "        investigate_collision = 2\n",
    "        momenta=[]\n",
    "        continue\n",
    "    \n",
    "    # When two electrons is noted.\n",
    "    elif investigate_collision > 0:\n",
    "        # Extracts momenta.\n",
    "        index_end=line.find(' Eta')\n",
    "        momenta_val=line[14:index_end]\n",
    "        momenta.append(momenta_val)\n",
    "        \n",
    "        # Extracts charge.\n",
    "        index_start=line.find('Charge ')+7\n",
    "        if investigate_collision==2:\n",
    "            if line[index_end]=='1':\n",
    "                charge_val=1\n",
    "            else:\n",
    "                charge_val=-1\n",
    "        else:\n",
    "            # Both cases where charges are opposite\n",
    "            if ( (line[index_end]=='1' and charge_val==-1) or\n",
    "                 (line[index_end]=='-' and charge_val==-1) ):\n",
    "\n",
    "                pass\n",
    "            else:\n",
    "\n",
    "            \n",
    "        \n",
    "        #charge_val=None\n",
    "        investigate_collision-=1\n",
    "        \n",
    "        # Print is for debugging\n",
    "        print('Momenta:',float(momenta_val))\n",
    "    \n",
    "\n"
   ]
  },
  {
   "cell_type": "code",
   "execution_count": null,
   "metadata": {},
   "outputs": [],
   "source": []
  }
 ],
 "metadata": {
  "interpreter": {
   "hash": "d3e6709fb4307babad68727153824e51862fe2f5b67b0550ecb1c691d9ae1a68"
  },
  "kernelspec": {
   "display_name": "Python 3.10.1 64-bit",
   "language": "python",
   "name": "python3"
  },
  "language_info": {
   "codemirror_mode": {
    "name": "ipython",
    "version": 3
   },
   "file_extension": ".py",
   "mimetype": "text/x-python",
   "name": "python",
   "nbconvert_exporter": "python",
   "pygments_lexer": "ipython3",
   "version": "3.10.1"
  },
  "orig_nbformat": 4
 },
 "nbformat": 4,
 "nbformat_minor": 2
}
