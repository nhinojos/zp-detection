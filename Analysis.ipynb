{
 "cells": [
  {
   "cell_type": "markdown",
   "metadata": {},
   "source": [
    "## Procedure\n",
    "Only collsion data with two oppositely-charged electrons is extracted for analysis."
   ]
  },
  {
   "cell_type": "code",
   "execution_count": 30,
   "metadata": {},
   "outputs": [
    {
     "name": "stdout",
     "output_type": "stream",
     "text": [
      "momenta: 150.68\n",
      "charge: 1\n",
      "\n"
     ]
    },
    {
     "ename": "ValueError",
     "evalue": "invalid literal for int() with base 10: '-'",
     "output_type": "error",
     "traceback": [
      "\u001b[1;31m---------------------------------------------------------------------------\u001b[0m",
      "\u001b[1;31mValueError\u001b[0m                                Traceback (most recent call last)",
      "\u001b[1;32mc:\\Users\\noaha\\Documents\\GitHub\\Searching-For-Z'-Boson-P121W-Lab\\Analysis.ipynb Cell 2'\u001b[0m in \u001b[0;36m<cell line: 3>\u001b[1;34m()\u001b[0m\n\u001b[0;32m     <a href='vscode-notebook-cell:/c%3A/Users/noaha/Documents/GitHub/Searching-For-Z%27-Boson-P121W-Lab/Analysis.ipynb#ch0000010?line=13'>14</a>\u001b[0m \u001b[39mtry\u001b[39;00m:\n\u001b[1;32m---> <a href='vscode-notebook-cell:/c%3A/Users/noaha/Documents/GitHub/Searching-For-Z%27-Boson-P121W-Lab/Analysis.ipynb#ch0000010?line=14'>15</a>\u001b[0m     charge_val\u001b[39m=\u001b[39m\u001b[39mint\u001b[39;49m(line[index])\n\u001b[0;32m     <a href='vscode-notebook-cell:/c%3A/Users/noaha/Documents/GitHub/Searching-For-Z%27-Boson-P121W-Lab/Analysis.ipynb#ch0000010?line=15'>16</a>\u001b[0m \u001b[39mexcept\u001b[39;00m:\n",
      "\u001b[1;31mValueError\u001b[0m: invalid literal for int() with base 10: '-'",
      "\nDuring handling of the above exception, another exception occurred:\n",
      "\u001b[1;31mValueError\u001b[0m                                Traceback (most recent call last)",
      "\u001b[1;32mc:\\Users\\noaha\\Documents\\GitHub\\Searching-For-Z'-Boson-P121W-Lab\\Analysis.ipynb Cell 2'\u001b[0m in \u001b[0;36m<cell line: 3>\u001b[1;34m()\u001b[0m\n\u001b[0;32m     <a href='vscode-notebook-cell:/c%3A/Users/noaha/Documents/GitHub/Searching-For-Z%27-Boson-P121W-Lab/Analysis.ipynb#ch0000010?line=14'>15</a>\u001b[0m     charge_val\u001b[39m=\u001b[39m\u001b[39mint\u001b[39m(line[index])\n\u001b[0;32m     <a href='vscode-notebook-cell:/c%3A/Users/noaha/Documents/GitHub/Searching-For-Z%27-Boson-P121W-Lab/Analysis.ipynb#ch0000010?line=15'>16</a>\u001b[0m \u001b[39mexcept\u001b[39;00m:\n\u001b[1;32m---> <a href='vscode-notebook-cell:/c%3A/Users/noaha/Documents/GitHub/Searching-For-Z%27-Boson-P121W-Lab/Analysis.ipynb#ch0000010?line=16'>17</a>\u001b[0m     charge_val\u001b[39m=\u001b[39m\u001b[39mint\u001b[39;49m(line[index:index\u001b[39m+\u001b[39;49m\u001b[39m1\u001b[39;49m])\n\u001b[0;32m     <a href='vscode-notebook-cell:/c%3A/Users/noaha/Documents/GitHub/Searching-For-Z%27-Boson-P121W-Lab/Analysis.ipynb#ch0000010?line=18'>19</a>\u001b[0m \u001b[39m# prints debugging\u001b[39;00m\n\u001b[0;32m     <a href='vscode-notebook-cell:/c%3A/Users/noaha/Documents/GitHub/Searching-For-Z%27-Boson-P121W-Lab/Analysis.ipynb#ch0000010?line=19'>20</a>\u001b[0m \u001b[39mprint\u001b[39m(\u001b[39m'\u001b[39m\u001b[39mmomenta:\u001b[39m\u001b[39m'\u001b[39m,\u001b[39mfloat\u001b[39m(momenta_val))\n",
      "\u001b[1;31mValueError\u001b[0m: invalid literal for int() with base 10: '-'"
     ]
    }
   ],
   "source": [
    "b175=open(\"ee_mll175_electrons.txt\",\"r\")\n",
    "scan=False\n",
    "for line in b175:\n",
    "    if \"NumElectrons: 2\" in line:\n",
    "        scan=True\n",
    "        continue\n",
    "    elif scan==True:\n",
    "        # Extracts momenta\n",
    "        index=line.find(' Eta')\n",
    "        momenta_val=line[14:index]\n",
    "        \n",
    "        # Extracts charge\n",
    "        index=line.find('Charge ')+7\n",
    "        if line[index]=='1':\n",
    "            charge_val=1\n",
    "        else:\n",
    "            charge_val=-1\n",
    "\n",
    "        # prints debugging\n",
    "        print('momenta:',float(momenta_val))\n",
    "        print('line[index]:',line[index])\n",
    "        print('charge:',charge_val)\n",
    "        print(\"\")\n"
   ]
  },
  {
   "cell_type": "code",
   "execution_count": null,
   "metadata": {},
   "outputs": [],
   "source": []
  }
 ],
 "metadata": {
  "interpreter": {
   "hash": "d3e6709fb4307babad68727153824e51862fe2f5b67b0550ecb1c691d9ae1a68"
  },
  "kernelspec": {
   "display_name": "Python 3.10.1 64-bit",
   "language": "python",
   "name": "python3"
  },
  "language_info": {
   "codemirror_mode": {
    "name": "ipython",
    "version": 3
   },
   "file_extension": ".py",
   "mimetype": "text/x-python",
   "name": "python",
   "nbconvert_exporter": "python",
   "pygments_lexer": "ipython3",
   "version": "3.10.1"
  },
  "orig_nbformat": 4
 },
 "nbformat": 4,
 "nbformat_minor": 2
}
